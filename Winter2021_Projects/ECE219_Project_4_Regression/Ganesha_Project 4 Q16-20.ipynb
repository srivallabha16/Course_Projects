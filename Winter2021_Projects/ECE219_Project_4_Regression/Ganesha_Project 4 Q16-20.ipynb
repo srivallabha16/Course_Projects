{
  "nbformat": 4,
  "nbformat_minor": 0,
  "metadata": {
    "colab": {
      "name": "Project 219 ECE Q 16-20.ipynb",
      "provenance": [],
      "collapsed_sections": []
    },
    "kernelspec": {
      "name": "python3",
      "display_name": "Python 3"
    },
    "language_info": {
      "name": "python"
    }
  },
  "cells": [
    {
      "cell_type": "code",
      "metadata": {
        "colab": {
          "base_uri": "https://localhost:8080/"
        },
        "id": "hH-8oYRfGYGc",
        "outputId": "4487d5fa-b46a-48fb-8054-fb168f092e63"
      },
      "source": [
        "from google.colab import drive\n",
        "drive.mount(\"/content/drive\")\n",
        "#drive.mount(\"/content/drive\", force_remount=True)"
      ],
      "execution_count": null,
      "outputs": [
        {
          "output_type": "stream",
          "text": [
            "Drive already mounted at /content/drive; to attempt to forcibly remount, call drive.mount(\"/content/drive\", force_remount=True).\n"
          ],
          "name": "stdout"
        }
      ]
    },
    {
      "cell_type": "code",
      "metadata": {
        "colab": {
          "base_uri": "https://localhost:8080/",
          "height": 884
        },
        "id": "pVdGR66rHQpF",
        "outputId": "62c6e67b-e2e6-4f4b-be1e-c5cf9bde7edb"
      },
      "source": [
        "% cd 'drive/My Drive/219 Project 4'\n",
        "% ls"
      ],
      "execution_count": null,
      "outputs": [
        {
          "output_type": "stream",
          "text": [
            "ERROR:root:Internal Python error in the inspect module.\n",
            "Below is the traceback from this internal error.\n",
            "\n"
          ],
          "name": "stderr"
        },
        {
          "output_type": "stream",
          "text": [
            "Traceback (most recent call last):\n",
            "  File \"/usr/local/lib/python3.7/dist-packages/IPython/core/interactiveshell.py\", line 2882, in run_code\n",
            "    exec(code_obj, self.user_global_ns, self.user_ns)\n",
            "  File \"<ipython-input-29-0113ce680fc7>\", line 1, in <module>\n",
            "    get_ipython().magic(\"cd 'drive/My Drive/219 Project 4'\")\n",
            "  File \"/usr/local/lib/python3.7/dist-packages/IPython/core/interactiveshell.py\", line 2160, in magic\n",
            "    return self.run_line_magic(magic_name, magic_arg_s)\n",
            "  File \"/usr/local/lib/python3.7/dist-packages/IPython/core/interactiveshell.py\", line 2081, in run_line_magic\n",
            "    result = fn(*args,**kwargs)\n",
            "  File \"<decorator-gen-84>\", line 2, in cd\n",
            "  File \"/usr/local/lib/python3.7/dist-packages/IPython/core/magic.py\", line 188, in <lambda>\n",
            "    call = lambda f, *a, **k: f(*a, **k)\n",
            "  File \"/usr/local/lib/python3.7/dist-packages/IPython/core/magics/osm.py\", line 288, in cd\n",
            "    oldcwd = py3compat.getcwd()\n",
            "OSError: [Errno 107] Transport endpoint is not connected\n",
            "\n",
            "During handling of the above exception, another exception occurred:\n",
            "\n",
            "Traceback (most recent call last):\n",
            "  File \"/usr/local/lib/python3.7/dist-packages/IPython/core/interactiveshell.py\", line 1823, in showtraceback\n",
            "    stb = value._render_traceback_()\n",
            "AttributeError: 'OSError' object has no attribute '_render_traceback_'\n",
            "\n",
            "During handling of the above exception, another exception occurred:\n",
            "\n",
            "Traceback (most recent call last):\n",
            "  File \"/usr/local/lib/python3.7/dist-packages/IPython/core/ultratb.py\", line 1132, in get_records\n",
            "    return _fixed_getinnerframes(etb, number_of_lines_of_context, tb_offset)\n",
            "  File \"/usr/local/lib/python3.7/dist-packages/IPython/core/ultratb.py\", line 313, in wrapped\n",
            "    return f(*args, **kwargs)\n",
            "  File \"/usr/local/lib/python3.7/dist-packages/IPython/core/ultratb.py\", line 358, in _fixed_getinnerframes\n",
            "    records = fix_frame_records_filenames(inspect.getinnerframes(etb, context))\n",
            "  File \"/usr/lib/python3.7/inspect.py\", line 1502, in getinnerframes\n",
            "    frameinfo = (tb.tb_frame,) + getframeinfo(tb, context)\n",
            "  File \"/usr/lib/python3.7/inspect.py\", line 1460, in getframeinfo\n",
            "    filename = getsourcefile(frame) or getfile(frame)\n",
            "  File \"/usr/lib/python3.7/inspect.py\", line 696, in getsourcefile\n",
            "    if getattr(getmodule(object, filename), '__loader__', None) is not None:\n",
            "  File \"/usr/lib/python3.7/inspect.py\", line 725, in getmodule\n",
            "    file = getabsfile(object, _filename)\n",
            "  File \"/usr/lib/python3.7/inspect.py\", line 709, in getabsfile\n",
            "    return os.path.normcase(os.path.abspath(_filename))\n",
            "  File \"/usr/lib/python3.7/posixpath.py\", line 383, in abspath\n",
            "    cwd = os.getcwd()\n",
            "OSError: [Errno 107] Transport endpoint is not connected\n"
          ],
          "name": "stdout"
        },
        {
          "output_type": "error",
          "ename": "OSError",
          "evalue": "ignored",
          "traceback": [
            "\u001b[0;31m---------------------------------------------------------------------------\u001b[0m"
          ]
        }
      ]
    },
    {
      "cell_type": "code",
      "metadata": {
        "colab": {
          "base_uri": "https://localhost:8080/"
        },
        "id": "SOfhY0PvHd6n",
        "outputId": "7e2fa350-1ce3-4f50-f24f-088b2d266260"
      },
      "source": [
        "from IPython.display import display\n",
        "from tqdm.notebook import tqdm\n",
        "import matplotlib.pyplot as plt\n",
        "import seaborn as sns\n",
        "import numpy as np\n",
        "import pandas as pd\n",
        "\n",
        "tqdm.pandas()"
      ],
      "execution_count": null,
      "outputs": [
        {
          "output_type": "stream",
          "text": [
            "/usr/local/lib/python3.7/dist-packages/tqdm/std.py:658: FutureWarning: The Panel class is removed from pandas. Accessing it from the top-level namespace will also be removed in the next version\n",
            "  from pandas import Panel\n"
          ],
          "name": "stderr"
        }
      ]
    },
    {
      "cell_type": "code",
      "metadata": {
        "id": "Wfu9CheuHjo2"
      },
      "source": [
        "from sklearn.preprocessing import OrdinalEncoder\n",
        "from sklearn.feature_selection import f_classif\n",
        "from sklearn.feature_selection import mutual_info_regression\n",
        "from sklearn.feature_selection import f_regression\n",
        "from sklearn.linear_model import LinearRegression\n",
        "from sklearn.model_selection import cross_validate\n",
        "from sklearn.metrics import mean_squared_error\n",
        "from sklearn.linear_model import Ridge\n",
        "from sklearn.linear_model import Lasso\n",
        "from sklearn.neural_network import MLPRegressor\n",
        "from sklearn.model_selection import train_test_split\n",
        "from sklearn.metrics import SCORERS\n",
        "from sklearn.model_selection import KFold\n",
        "from sklearn.feature_selection import RFECV\n",
        "from sklearn.preprocessing import PolynomialFeatures\n",
        "import warnings\n",
        "warnings.filterwarnings(\"ignore\")"
      ],
      "execution_count": null,
      "outputs": []
    },
    {
      "cell_type": "code",
      "metadata": {
        "id": "JqEN8xsFIecb"
      },
      "source": [
        "def convert_categorical(df, cols):\n",
        "    for c in cols:\n",
        "        df[c] = pd.Categorical(df[c])\n",
        "    return df"
      ],
      "execution_count": null,
      "outputs": []
    },
    {
      "cell_type": "code",
      "metadata": {
        "id": "X9h_0SrziNMH"
      },
      "source": [
        "def enc_df(df, cat):\n",
        "    X = df.copy(deep = True)\n",
        "    enc = OrdinalEncoder()\n",
        "    enc.fit(X[cat])\n",
        "    X[cat] = enc.transform(X[cat])\n",
        "    \n",
        "    #enc is returned so as to transform any test data, if needed.\n",
        "    return X, enc"
      ],
      "execution_count": null,
      "outputs": []
    },
    {
      "cell_type": "code",
      "metadata": {
        "id": "pphBW0bMHuRm"
      },
      "source": [
        "df_bik = pd.read_csv('df_bik.csv')\n",
        "\n",
        "df_sui = pd.read_csv('df_sui.csv',keep_default_na=False)\n",
        "\n",
        "df_vid = pd.read_csv('df_vid.csv')\n",
        "df_vid = df_vid.drop(columns=['umem'])"
      ],
      "execution_count": null,
      "outputs": []
    },
    {
      "cell_type": "code",
      "metadata": {
        "id": "wVY-5ycQIPvo"
      },
      "source": [
        "y_bik = 'cnt'\n",
        "y_sui = 'suicides/100k pop'\n",
        "y_vid = 'utime'\n",
        "ys = [y_bik, y_sui, y_vid]\n",
        "\n",
        "dfs = [df_bik, df_sui, df_vid]\n",
        "\n",
        "datasets = ['Bike Sharing', 'Suicide', 'Video Transcoding']"
      ],
      "execution_count": null,
      "outputs": []
    },
    {
      "cell_type": "code",
      "metadata": {
        "id": "BhV9y-HJIWsV"
      },
      "source": [
        "cat_bik = ['season', 'yr', 'mnth', 'holiday', 'weekday', 'workingday', 'weathersit']\n",
        "cat_bik_mask = np.array([1,1,1,1,1,1,1,0,0,0,0])\n",
        "\n",
        "cat_sui = ['year', 'sex', 'age', 'generation','continent']\n",
        "cat_sui_mask = np.array([1,1,1,0,0,0,1,1])\n",
        "\n",
        "cat_vid = ['codec', 'o_codec']\n",
        "cat_vid_mask = np.array([0,1,0,0,0,0,0,0,0,0,0,0,0,1,0,0,0,0])\n",
        "\n",
        "cat_masks = [cat_bik_mask, cat_sui_mask, cat_vid_mask]\n",
        "cat_names = [cat_bik, cat_sui, cat_vid]"
      ],
      "execution_count": null,
      "outputs": []
    },
    {
      "cell_type": "code",
      "metadata": {
        "id": "T80dWZ5FIijq"
      },
      "source": [
        "df_bik = convert_categorical(df_bik, cat_bik)\n",
        "df_sui = convert_categorical(df_sui, cat_sui)\n",
        "df_vid = convert_categorical(df_vid, cat_vid)\n",
        "\n",
        "dfs = [df_bik, df_sui, df_vid]"
      ],
      "execution_count": null,
      "outputs": []
    },
    {
      "cell_type": "code",
      "metadata": {
        "id": "qj-WnQpSi3pm"
      },
      "source": [
        "df_bik_oh = pd.get_dummies(df_bik)\n",
        "df_sui_oh = pd.get_dummies(df_sui)\n",
        "df_vid_oh = pd.get_dummies(df_vid)\n",
        "\n",
        "dfs_oh = [df_bik_oh, df_sui_oh, df_vid_oh]"
      ],
      "execution_count": null,
      "outputs": []
    },
    {
      "cell_type": "code",
      "metadata": {
        "id": "HqbCEZw-iFtv"
      },
      "source": [
        "df_bikenc, enc_bik = enc_df(df_bik, cat_bik)\n",
        "df_suienc, enc_sui = enc_df(df_sui, cat_sui)\n",
        "df_videnc, enc_vid = enc_df(df_vid, cat_vid)\n",
        "\n",
        "dfs_enc = [df_bikenc, df_suienc, df_videnc]"
      ],
      "execution_count": null,
      "outputs": []
    },
    {
      "cell_type": "code",
      "metadata": {
        "colab": {
          "base_uri": "https://localhost:8080/"
        },
        "id": "rwBwihVxJpkt",
        "outputId": "c3ab13ee-4653-4cae-e021-5160148a58f5"
      },
      "source": [
        "#Checking for any null values\n",
        "print(df_bik.isnull().sum().sum())\n",
        "print(df_sui.isnull().sum().sum())\n",
        "print(df_vid.isnull().sum().sum())"
      ],
      "execution_count": null,
      "outputs": [
        {
          "output_type": "stream",
          "text": [
            "0\n",
            "0\n",
            "0\n"
          ],
          "name": "stdout"
        }
      ]
    },
    {
      "cell_type": "code",
      "metadata": {
        "id": "VfiRsU_OMP_t"
      },
      "source": [
        "def Poly_Reg_twoal(d, df, Y, drp,alphas,deg,title):\n",
        "    X = df.drop(columns = [Y] + drp)\n",
        "    y = df[Y]\n",
        "    X = pd.get_dummies(X)\n",
        "\n",
        "    cols = X.columns\n",
        "    print(\"No of features\", len(cols))\n",
        "    feat_names = ['x'+str(i) for i in range(len(cols))]\n",
        "    dfpoly = pd.DataFrame({'col_name':cols, 'col_rep':feat_names})\n",
        "    display(dfpoly)\n",
        "\n",
        "    poly = PolynomialFeatures(deg)\n",
        "    X = poly.fit_transform(X)\n",
        "\n",
        "    alphar, alphal = alphas\n",
        "\n",
        "    rid_scores={}\n",
        "    las_scores={}\n",
        "    \n",
        "    rid_train_rmse = []\n",
        "    rid_test_rmse = []\n",
        "    las_train_rmse = []\n",
        "    las_test_rmse = [] \n",
        "\n",
        "    rid_reg = Ridge(alpha = alphar)\n",
        "    scores = cross_validate(rid_reg, X, y, scoring=\"neg_mean_squared_error\", cv=10, return_train_score=True)\n",
        "    rid_train_rmse.append(np.sqrt(np.mean(-scores['train_score'])))\n",
        "    rid_test_rmse.append(np.sqrt(np.mean(-scores['test_score'])))\n",
        "    \n",
        "    las_reg = Lasso(alpha = alphal)\n",
        "    scores = cross_validate(las_reg, X, y, scoring=\"neg_mean_squared_error\", cv=10, return_train_score=True)\n",
        "    las_train_rmse.append(np.sqrt(np.mean(-scores['train_score'])))\n",
        "    las_test_rmse.append(np.sqrt(np.mean(-scores['test_score'])))\n",
        "    \n",
        "  \n",
        "    dframe = pd.DataFrame({'Ridge Train RMSE':rid_train_rmse, 'Ridge Valid RMSE':rid_test_rmse})\n",
        "    print(d+\" Ridge Rigression deg {} \".format(deg)+title)\n",
        "    display(dframe)\n",
        "    \n",
        "    dframe = pd.DataFrame({'Lasso Train RMSE':las_train_rmse, 'Lasso Valid RMSE':las_test_rmse})\n",
        "    print(d+\" Lasso Rigression deg {} \".format(deg)+title)\n",
        "    display(dframe)"
      ],
      "execution_count": null,
      "outputs": []
    },
    {
      "cell_type": "markdown",
      "metadata": {
        "id": "tLWuA3o6JZ2z"
      },
      "source": [
        "Invert Frame rate and see regression performance"
      ]
    },
    {
      "cell_type": "code",
      "metadata": {
        "id": "kI5LdAm6JZaC"
      },
      "source": [
        "inv_frate = (df_vid['framerate'])**-1\n",
        "X = df_vid.drop(columns = 'framerate')\n",
        "X['inv_fr'] = inv_frate"
      ],
      "execution_count": null,
      "outputs": []
    },
    {
      "cell_type": "code",
      "metadata": {
        "colab": {
          "base_uri": "https://localhost:8080/",
          "height": 928
        },
        "id": "HoV21x0pfipM",
        "outputId": "dfc8bf04-8d97-46c1-e61e-70acde5091f1"
      },
      "source": [
        "deg = 2\n",
        "Poly_Reg_twoal(datasets[2],X, ys[2],drp = [],alphas = (1000,0.1), deg = deg, title = \"\")"
      ],
      "execution_count": null,
      "outputs": [
        {
          "output_type": "stream",
          "text": [
            "No of features 24\n"
          ],
          "name": "stdout"
        },
        {
          "output_type": "display_data",
          "data": {
            "text/html": [
              "<div>\n",
              "<style scoped>\n",
              "    .dataframe tbody tr th:only-of-type {\n",
              "        vertical-align: middle;\n",
              "    }\n",
              "\n",
              "    .dataframe tbody tr th {\n",
              "        vertical-align: top;\n",
              "    }\n",
              "\n",
              "    .dataframe thead th {\n",
              "        text-align: right;\n",
              "    }\n",
              "</style>\n",
              "<table border=\"1\" class=\"dataframe\">\n",
              "  <thead>\n",
              "    <tr style=\"text-align: right;\">\n",
              "      <th></th>\n",
              "      <th>col_name</th>\n",
              "      <th>col_rep</th>\n",
              "    </tr>\n",
              "  </thead>\n",
              "  <tbody>\n",
              "    <tr>\n",
              "      <th>0</th>\n",
              "      <td>duration</td>\n",
              "      <td>x0</td>\n",
              "    </tr>\n",
              "    <tr>\n",
              "      <th>1</th>\n",
              "      <td>width</td>\n",
              "      <td>x1</td>\n",
              "    </tr>\n",
              "    <tr>\n",
              "      <th>2</th>\n",
              "      <td>height</td>\n",
              "      <td>x2</td>\n",
              "    </tr>\n",
              "    <tr>\n",
              "      <th>3</th>\n",
              "      <td>bitrate</td>\n",
              "      <td>x3</td>\n",
              "    </tr>\n",
              "    <tr>\n",
              "      <th>4</th>\n",
              "      <td>i</td>\n",
              "      <td>x4</td>\n",
              "    </tr>\n",
              "    <tr>\n",
              "      <th>5</th>\n",
              "      <td>p</td>\n",
              "      <td>x5</td>\n",
              "    </tr>\n",
              "    <tr>\n",
              "      <th>6</th>\n",
              "      <td>b</td>\n",
              "      <td>x6</td>\n",
              "    </tr>\n",
              "    <tr>\n",
              "      <th>7</th>\n",
              "      <td>frames</td>\n",
              "      <td>x7</td>\n",
              "    </tr>\n",
              "    <tr>\n",
              "      <th>8</th>\n",
              "      <td>i_size</td>\n",
              "      <td>x8</td>\n",
              "    </tr>\n",
              "    <tr>\n",
              "      <th>9</th>\n",
              "      <td>p_size</td>\n",
              "      <td>x9</td>\n",
              "    </tr>\n",
              "    <tr>\n",
              "      <th>10</th>\n",
              "      <td>size</td>\n",
              "      <td>x10</td>\n",
              "    </tr>\n",
              "    <tr>\n",
              "      <th>11</th>\n",
              "      <td>o_bitrate</td>\n",
              "      <td>x11</td>\n",
              "    </tr>\n",
              "    <tr>\n",
              "      <th>12</th>\n",
              "      <td>o_framerate</td>\n",
              "      <td>x12</td>\n",
              "    </tr>\n",
              "    <tr>\n",
              "      <th>13</th>\n",
              "      <td>o_width</td>\n",
              "      <td>x13</td>\n",
              "    </tr>\n",
              "    <tr>\n",
              "      <th>14</th>\n",
              "      <td>o_height</td>\n",
              "      <td>x14</td>\n",
              "    </tr>\n",
              "    <tr>\n",
              "      <th>15</th>\n",
              "      <td>inv_fr</td>\n",
              "      <td>x15</td>\n",
              "    </tr>\n",
              "    <tr>\n",
              "      <th>16</th>\n",
              "      <td>codec_flv</td>\n",
              "      <td>x16</td>\n",
              "    </tr>\n",
              "    <tr>\n",
              "      <th>17</th>\n",
              "      <td>codec_h264</td>\n",
              "      <td>x17</td>\n",
              "    </tr>\n",
              "    <tr>\n",
              "      <th>18</th>\n",
              "      <td>codec_mpeg4</td>\n",
              "      <td>x18</td>\n",
              "    </tr>\n",
              "    <tr>\n",
              "      <th>19</th>\n",
              "      <td>codec_vp8</td>\n",
              "      <td>x19</td>\n",
              "    </tr>\n",
              "    <tr>\n",
              "      <th>20</th>\n",
              "      <td>o_codec_flv</td>\n",
              "      <td>x20</td>\n",
              "    </tr>\n",
              "    <tr>\n",
              "      <th>21</th>\n",
              "      <td>o_codec_h264</td>\n",
              "      <td>x21</td>\n",
              "    </tr>\n",
              "    <tr>\n",
              "      <th>22</th>\n",
              "      <td>o_codec_mpeg4</td>\n",
              "      <td>x22</td>\n",
              "    </tr>\n",
              "    <tr>\n",
              "      <th>23</th>\n",
              "      <td>o_codec_vp8</td>\n",
              "      <td>x23</td>\n",
              "    </tr>\n",
              "  </tbody>\n",
              "</table>\n",
              "</div>"
            ],
            "text/plain": [
              "         col_name col_rep\n",
              "0        duration      x0\n",
              "1           width      x1\n",
              "2          height      x2\n",
              "3         bitrate      x3\n",
              "4               i      x4\n",
              "5               p      x5\n",
              "6               b      x6\n",
              "7          frames      x7\n",
              "8          i_size      x8\n",
              "9          p_size      x9\n",
              "10           size     x10\n",
              "11      o_bitrate     x11\n",
              "12    o_framerate     x12\n",
              "13        o_width     x13\n",
              "14       o_height     x14\n",
              "15         inv_fr     x15\n",
              "16      codec_flv     x16\n",
              "17     codec_h264     x17\n",
              "18    codec_mpeg4     x18\n",
              "19      codec_vp8     x19\n",
              "20    o_codec_flv     x20\n",
              "21   o_codec_h264     x21\n",
              "22  o_codec_mpeg4     x22\n",
              "23    o_codec_vp8     x23"
            ]
          },
          "metadata": {
            "tags": []
          }
        },
        {
          "output_type": "stream",
          "text": [
            "Video Transcoding Ridge Rigression deg 2 \n"
          ],
          "name": "stdout"
        },
        {
          "output_type": "display_data",
          "data": {
            "text/html": [
              "<div>\n",
              "<style scoped>\n",
              "    .dataframe tbody tr th:only-of-type {\n",
              "        vertical-align: middle;\n",
              "    }\n",
              "\n",
              "    .dataframe tbody tr th {\n",
              "        vertical-align: top;\n",
              "    }\n",
              "\n",
              "    .dataframe thead th {\n",
              "        text-align: right;\n",
              "    }\n",
              "</style>\n",
              "<table border=\"1\" class=\"dataframe\">\n",
              "  <thead>\n",
              "    <tr style=\"text-align: right;\">\n",
              "      <th></th>\n",
              "      <th>Ridge Train RMSE</th>\n",
              "      <th>Ridge Valid RMSE</th>\n",
              "    </tr>\n",
              "  </thead>\n",
              "  <tbody>\n",
              "    <tr>\n",
              "      <th>0</th>\n",
              "      <td>6.333415</td>\n",
              "      <td>14.185797</td>\n",
              "    </tr>\n",
              "  </tbody>\n",
              "</table>\n",
              "</div>"
            ],
            "text/plain": [
              "   Ridge Train RMSE  Ridge Valid RMSE\n",
              "0          6.333415         14.185797"
            ]
          },
          "metadata": {
            "tags": []
          }
        },
        {
          "output_type": "stream",
          "text": [
            "Video Transcoding Lasso Rigression deg 2 \n"
          ],
          "name": "stdout"
        },
        {
          "output_type": "display_data",
          "data": {
            "text/html": [
              "<div>\n",
              "<style scoped>\n",
              "    .dataframe tbody tr th:only-of-type {\n",
              "        vertical-align: middle;\n",
              "    }\n",
              "\n",
              "    .dataframe tbody tr th {\n",
              "        vertical-align: top;\n",
              "    }\n",
              "\n",
              "    .dataframe thead th {\n",
              "        text-align: right;\n",
              "    }\n",
              "</style>\n",
              "<table border=\"1\" class=\"dataframe\">\n",
              "  <thead>\n",
              "    <tr style=\"text-align: right;\">\n",
              "      <th></th>\n",
              "      <th>Lasso Train RMSE</th>\n",
              "      <th>Lasso Valid RMSE</th>\n",
              "    </tr>\n",
              "  </thead>\n",
              "  <tbody>\n",
              "    <tr>\n",
              "      <th>0</th>\n",
              "      <td>6.584652</td>\n",
              "      <td>7.288184</td>\n",
              "    </tr>\n",
              "  </tbody>\n",
              "</table>\n",
              "</div>"
            ],
            "text/plain": [
              "   Lasso Train RMSE  Lasso Valid RMSE\n",
              "0          6.584652          7.288184"
            ]
          },
          "metadata": {
            "tags": []
          }
        }
      ]
    },
    {
      "cell_type": "markdown",
      "metadata": {
        "id": "0QeVKCAxeYjm"
      },
      "source": [
        "Invert number of frames:"
      ]
    },
    {
      "cell_type": "code",
      "metadata": {
        "colab": {
          "base_uri": "https://localhost:8080/",
          "height": 928
        },
        "id": "J0Awg5lBrOHc",
        "outputId": "b0a9294d-ec51-4621-f1ab-aa960b53ca1e"
      },
      "source": [
        "inv_fr = (df_vid['frames'])**-1.0\n",
        "X = df_vid.drop(columns = ['frames'])\n",
        "X['inv_fr'] = inv_fr\n",
        "deg = 2\n",
        "Poly_Reg_twoal(datasets[2],X, ys[2],drp = [],alphas = (1000,0.1), deg = deg, title = \"\")"
      ],
      "execution_count": null,
      "outputs": [
        {
          "output_type": "stream",
          "text": [
            "No of features 24\n"
          ],
          "name": "stdout"
        },
        {
          "output_type": "display_data",
          "data": {
            "text/html": [
              "<div>\n",
              "<style scoped>\n",
              "    .dataframe tbody tr th:only-of-type {\n",
              "        vertical-align: middle;\n",
              "    }\n",
              "\n",
              "    .dataframe tbody tr th {\n",
              "        vertical-align: top;\n",
              "    }\n",
              "\n",
              "    .dataframe thead th {\n",
              "        text-align: right;\n",
              "    }\n",
              "</style>\n",
              "<table border=\"1\" class=\"dataframe\">\n",
              "  <thead>\n",
              "    <tr style=\"text-align: right;\">\n",
              "      <th></th>\n",
              "      <th>col_name</th>\n",
              "      <th>col_rep</th>\n",
              "    </tr>\n",
              "  </thead>\n",
              "  <tbody>\n",
              "    <tr>\n",
              "      <th>0</th>\n",
              "      <td>duration</td>\n",
              "      <td>x0</td>\n",
              "    </tr>\n",
              "    <tr>\n",
              "      <th>1</th>\n",
              "      <td>width</td>\n",
              "      <td>x1</td>\n",
              "    </tr>\n",
              "    <tr>\n",
              "      <th>2</th>\n",
              "      <td>height</td>\n",
              "      <td>x2</td>\n",
              "    </tr>\n",
              "    <tr>\n",
              "      <th>3</th>\n",
              "      <td>bitrate</td>\n",
              "      <td>x3</td>\n",
              "    </tr>\n",
              "    <tr>\n",
              "      <th>4</th>\n",
              "      <td>framerate</td>\n",
              "      <td>x4</td>\n",
              "    </tr>\n",
              "    <tr>\n",
              "      <th>5</th>\n",
              "      <td>i</td>\n",
              "      <td>x5</td>\n",
              "    </tr>\n",
              "    <tr>\n",
              "      <th>6</th>\n",
              "      <td>p</td>\n",
              "      <td>x6</td>\n",
              "    </tr>\n",
              "    <tr>\n",
              "      <th>7</th>\n",
              "      <td>b</td>\n",
              "      <td>x7</td>\n",
              "    </tr>\n",
              "    <tr>\n",
              "      <th>8</th>\n",
              "      <td>i_size</td>\n",
              "      <td>x8</td>\n",
              "    </tr>\n",
              "    <tr>\n",
              "      <th>9</th>\n",
              "      <td>p_size</td>\n",
              "      <td>x9</td>\n",
              "    </tr>\n",
              "    <tr>\n",
              "      <th>10</th>\n",
              "      <td>size</td>\n",
              "      <td>x10</td>\n",
              "    </tr>\n",
              "    <tr>\n",
              "      <th>11</th>\n",
              "      <td>o_bitrate</td>\n",
              "      <td>x11</td>\n",
              "    </tr>\n",
              "    <tr>\n",
              "      <th>12</th>\n",
              "      <td>o_framerate</td>\n",
              "      <td>x12</td>\n",
              "    </tr>\n",
              "    <tr>\n",
              "      <th>13</th>\n",
              "      <td>o_width</td>\n",
              "      <td>x13</td>\n",
              "    </tr>\n",
              "    <tr>\n",
              "      <th>14</th>\n",
              "      <td>o_height</td>\n",
              "      <td>x14</td>\n",
              "    </tr>\n",
              "    <tr>\n",
              "      <th>15</th>\n",
              "      <td>inv_fr</td>\n",
              "      <td>x15</td>\n",
              "    </tr>\n",
              "    <tr>\n",
              "      <th>16</th>\n",
              "      <td>codec_flv</td>\n",
              "      <td>x16</td>\n",
              "    </tr>\n",
              "    <tr>\n",
              "      <th>17</th>\n",
              "      <td>codec_h264</td>\n",
              "      <td>x17</td>\n",
              "    </tr>\n",
              "    <tr>\n",
              "      <th>18</th>\n",
              "      <td>codec_mpeg4</td>\n",
              "      <td>x18</td>\n",
              "    </tr>\n",
              "    <tr>\n",
              "      <th>19</th>\n",
              "      <td>codec_vp8</td>\n",
              "      <td>x19</td>\n",
              "    </tr>\n",
              "    <tr>\n",
              "      <th>20</th>\n",
              "      <td>o_codec_flv</td>\n",
              "      <td>x20</td>\n",
              "    </tr>\n",
              "    <tr>\n",
              "      <th>21</th>\n",
              "      <td>o_codec_h264</td>\n",
              "      <td>x21</td>\n",
              "    </tr>\n",
              "    <tr>\n",
              "      <th>22</th>\n",
              "      <td>o_codec_mpeg4</td>\n",
              "      <td>x22</td>\n",
              "    </tr>\n",
              "    <tr>\n",
              "      <th>23</th>\n",
              "      <td>o_codec_vp8</td>\n",
              "      <td>x23</td>\n",
              "    </tr>\n",
              "  </tbody>\n",
              "</table>\n",
              "</div>"
            ],
            "text/plain": [
              "         col_name col_rep\n",
              "0        duration      x0\n",
              "1           width      x1\n",
              "2          height      x2\n",
              "3         bitrate      x3\n",
              "4       framerate      x4\n",
              "5               i      x5\n",
              "6               p      x6\n",
              "7               b      x7\n",
              "8          i_size      x8\n",
              "9          p_size      x9\n",
              "10           size     x10\n",
              "11      o_bitrate     x11\n",
              "12    o_framerate     x12\n",
              "13        o_width     x13\n",
              "14       o_height     x14\n",
              "15         inv_fr     x15\n",
              "16      codec_flv     x16\n",
              "17     codec_h264     x17\n",
              "18    codec_mpeg4     x18\n",
              "19      codec_vp8     x19\n",
              "20    o_codec_flv     x20\n",
              "21   o_codec_h264     x21\n",
              "22  o_codec_mpeg4     x22\n",
              "23    o_codec_vp8     x23"
            ]
          },
          "metadata": {
            "tags": []
          }
        },
        {
          "output_type": "stream",
          "text": [
            "Video Transcoding Ridge Rigression deg 2 \n"
          ],
          "name": "stdout"
        },
        {
          "output_type": "display_data",
          "data": {
            "text/html": [
              "<div>\n",
              "<style scoped>\n",
              "    .dataframe tbody tr th:only-of-type {\n",
              "        vertical-align: middle;\n",
              "    }\n",
              "\n",
              "    .dataframe tbody tr th {\n",
              "        vertical-align: top;\n",
              "    }\n",
              "\n",
              "    .dataframe thead th {\n",
              "        text-align: right;\n",
              "    }\n",
              "</style>\n",
              "<table border=\"1\" class=\"dataframe\">\n",
              "  <thead>\n",
              "    <tr style=\"text-align: right;\">\n",
              "      <th></th>\n",
              "      <th>Ridge Train RMSE</th>\n",
              "      <th>Ridge Valid RMSE</th>\n",
              "    </tr>\n",
              "  </thead>\n",
              "  <tbody>\n",
              "    <tr>\n",
              "      <th>0</th>\n",
              "      <td>6.322121</td>\n",
              "      <td>21.227671</td>\n",
              "    </tr>\n",
              "  </tbody>\n",
              "</table>\n",
              "</div>"
            ],
            "text/plain": [
              "   Ridge Train RMSE  Ridge Valid RMSE\n",
              "0          6.322121         21.227671"
            ]
          },
          "metadata": {
            "tags": []
          }
        },
        {
          "output_type": "stream",
          "text": [
            "Video Transcoding Lasso Rigression deg 2 \n"
          ],
          "name": "stdout"
        },
        {
          "output_type": "display_data",
          "data": {
            "text/html": [
              "<div>\n",
              "<style scoped>\n",
              "    .dataframe tbody tr th:only-of-type {\n",
              "        vertical-align: middle;\n",
              "    }\n",
              "\n",
              "    .dataframe tbody tr th {\n",
              "        vertical-align: top;\n",
              "    }\n",
              "\n",
              "    .dataframe thead th {\n",
              "        text-align: right;\n",
              "    }\n",
              "</style>\n",
              "<table border=\"1\" class=\"dataframe\">\n",
              "  <thead>\n",
              "    <tr style=\"text-align: right;\">\n",
              "      <th></th>\n",
              "      <th>Lasso Train RMSE</th>\n",
              "      <th>Lasso Valid RMSE</th>\n",
              "    </tr>\n",
              "  </thead>\n",
              "  <tbody>\n",
              "    <tr>\n",
              "      <th>0</th>\n",
              "      <td>6.563849</td>\n",
              "      <td>7.484193</td>\n",
              "    </tr>\n",
              "  </tbody>\n",
              "</table>\n",
              "</div>"
            ],
            "text/plain": [
              "   Lasso Train RMSE  Lasso Valid RMSE\n",
              "0          6.563849          7.484193"
            ]
          },
          "metadata": {
            "tags": []
          }
        }
      ]
    },
    {
      "cell_type": "code",
      "metadata": {
        "colab": {
          "base_uri": "https://localhost:8080/",
          "height": 928
        },
        "id": "NZGCFf4sr_kn",
        "outputId": "f13d5d2a-ab91-4bf4-98a2-e4180465ad73"
      },
      "source": [
        "inv_fr = (df_vid['frames'])**-1.0\n",
        "inv_frate = (df_vid['framerate'])**-1.0\n",
        "X = df_vid.drop(columns = ['frames', 'framerate'])\n",
        "X['inv_fr'] = inv_fr\n",
        "X['inv_frate'] = inv_frate\n",
        "deg = 2\n",
        "Poly_Reg_twoal(datasets[2],X, ys[2],drp = [],alphas = (1000,0.1), deg = deg, title = \"\")"
      ],
      "execution_count": null,
      "outputs": [
        {
          "output_type": "stream",
          "text": [
            "No of features 24\n"
          ],
          "name": "stdout"
        },
        {
          "output_type": "display_data",
          "data": {
            "text/html": [
              "<div>\n",
              "<style scoped>\n",
              "    .dataframe tbody tr th:only-of-type {\n",
              "        vertical-align: middle;\n",
              "    }\n",
              "\n",
              "    .dataframe tbody tr th {\n",
              "        vertical-align: top;\n",
              "    }\n",
              "\n",
              "    .dataframe thead th {\n",
              "        text-align: right;\n",
              "    }\n",
              "</style>\n",
              "<table border=\"1\" class=\"dataframe\">\n",
              "  <thead>\n",
              "    <tr style=\"text-align: right;\">\n",
              "      <th></th>\n",
              "      <th>col_name</th>\n",
              "      <th>col_rep</th>\n",
              "    </tr>\n",
              "  </thead>\n",
              "  <tbody>\n",
              "    <tr>\n",
              "      <th>0</th>\n",
              "      <td>duration</td>\n",
              "      <td>x0</td>\n",
              "    </tr>\n",
              "    <tr>\n",
              "      <th>1</th>\n",
              "      <td>width</td>\n",
              "      <td>x1</td>\n",
              "    </tr>\n",
              "    <tr>\n",
              "      <th>2</th>\n",
              "      <td>height</td>\n",
              "      <td>x2</td>\n",
              "    </tr>\n",
              "    <tr>\n",
              "      <th>3</th>\n",
              "      <td>bitrate</td>\n",
              "      <td>x3</td>\n",
              "    </tr>\n",
              "    <tr>\n",
              "      <th>4</th>\n",
              "      <td>i</td>\n",
              "      <td>x4</td>\n",
              "    </tr>\n",
              "    <tr>\n",
              "      <th>5</th>\n",
              "      <td>p</td>\n",
              "      <td>x5</td>\n",
              "    </tr>\n",
              "    <tr>\n",
              "      <th>6</th>\n",
              "      <td>b</td>\n",
              "      <td>x6</td>\n",
              "    </tr>\n",
              "    <tr>\n",
              "      <th>7</th>\n",
              "      <td>i_size</td>\n",
              "      <td>x7</td>\n",
              "    </tr>\n",
              "    <tr>\n",
              "      <th>8</th>\n",
              "      <td>p_size</td>\n",
              "      <td>x8</td>\n",
              "    </tr>\n",
              "    <tr>\n",
              "      <th>9</th>\n",
              "      <td>size</td>\n",
              "      <td>x9</td>\n",
              "    </tr>\n",
              "    <tr>\n",
              "      <th>10</th>\n",
              "      <td>o_bitrate</td>\n",
              "      <td>x10</td>\n",
              "    </tr>\n",
              "    <tr>\n",
              "      <th>11</th>\n",
              "      <td>o_framerate</td>\n",
              "      <td>x11</td>\n",
              "    </tr>\n",
              "    <tr>\n",
              "      <th>12</th>\n",
              "      <td>o_width</td>\n",
              "      <td>x12</td>\n",
              "    </tr>\n",
              "    <tr>\n",
              "      <th>13</th>\n",
              "      <td>o_height</td>\n",
              "      <td>x13</td>\n",
              "    </tr>\n",
              "    <tr>\n",
              "      <th>14</th>\n",
              "      <td>inv_fr</td>\n",
              "      <td>x14</td>\n",
              "    </tr>\n",
              "    <tr>\n",
              "      <th>15</th>\n",
              "      <td>inv_frate</td>\n",
              "      <td>x15</td>\n",
              "    </tr>\n",
              "    <tr>\n",
              "      <th>16</th>\n",
              "      <td>codec_flv</td>\n",
              "      <td>x16</td>\n",
              "    </tr>\n",
              "    <tr>\n",
              "      <th>17</th>\n",
              "      <td>codec_h264</td>\n",
              "      <td>x17</td>\n",
              "    </tr>\n",
              "    <tr>\n",
              "      <th>18</th>\n",
              "      <td>codec_mpeg4</td>\n",
              "      <td>x18</td>\n",
              "    </tr>\n",
              "    <tr>\n",
              "      <th>19</th>\n",
              "      <td>codec_vp8</td>\n",
              "      <td>x19</td>\n",
              "    </tr>\n",
              "    <tr>\n",
              "      <th>20</th>\n",
              "      <td>o_codec_flv</td>\n",
              "      <td>x20</td>\n",
              "    </tr>\n",
              "    <tr>\n",
              "      <th>21</th>\n",
              "      <td>o_codec_h264</td>\n",
              "      <td>x21</td>\n",
              "    </tr>\n",
              "    <tr>\n",
              "      <th>22</th>\n",
              "      <td>o_codec_mpeg4</td>\n",
              "      <td>x22</td>\n",
              "    </tr>\n",
              "    <tr>\n",
              "      <th>23</th>\n",
              "      <td>o_codec_vp8</td>\n",
              "      <td>x23</td>\n",
              "    </tr>\n",
              "  </tbody>\n",
              "</table>\n",
              "</div>"
            ],
            "text/plain": [
              "         col_name col_rep\n",
              "0        duration      x0\n",
              "1           width      x1\n",
              "2          height      x2\n",
              "3         bitrate      x3\n",
              "4               i      x4\n",
              "5               p      x5\n",
              "6               b      x6\n",
              "7          i_size      x7\n",
              "8          p_size      x8\n",
              "9            size      x9\n",
              "10      o_bitrate     x10\n",
              "11    o_framerate     x11\n",
              "12        o_width     x12\n",
              "13       o_height     x13\n",
              "14         inv_fr     x14\n",
              "15      inv_frate     x15\n",
              "16      codec_flv     x16\n",
              "17     codec_h264     x17\n",
              "18    codec_mpeg4     x18\n",
              "19      codec_vp8     x19\n",
              "20    o_codec_flv     x20\n",
              "21   o_codec_h264     x21\n",
              "22  o_codec_mpeg4     x22\n",
              "23    o_codec_vp8     x23"
            ]
          },
          "metadata": {
            "tags": []
          }
        },
        {
          "output_type": "stream",
          "text": [
            "Video Transcoding Ridge Rigression deg 2 \n"
          ],
          "name": "stdout"
        },
        {
          "output_type": "display_data",
          "data": {
            "text/html": [
              "<div>\n",
              "<style scoped>\n",
              "    .dataframe tbody tr th:only-of-type {\n",
              "        vertical-align: middle;\n",
              "    }\n",
              "\n",
              "    .dataframe tbody tr th {\n",
              "        vertical-align: top;\n",
              "    }\n",
              "\n",
              "    .dataframe thead th {\n",
              "        text-align: right;\n",
              "    }\n",
              "</style>\n",
              "<table border=\"1\" class=\"dataframe\">\n",
              "  <thead>\n",
              "    <tr style=\"text-align: right;\">\n",
              "      <th></th>\n",
              "      <th>Ridge Train RMSE</th>\n",
              "      <th>Ridge Valid RMSE</th>\n",
              "    </tr>\n",
              "  </thead>\n",
              "  <tbody>\n",
              "    <tr>\n",
              "      <th>0</th>\n",
              "      <td>6.32069</td>\n",
              "      <td>8.311974</td>\n",
              "    </tr>\n",
              "  </tbody>\n",
              "</table>\n",
              "</div>"
            ],
            "text/plain": [
              "   Ridge Train RMSE  Ridge Valid RMSE\n",
              "0           6.32069          8.311974"
            ]
          },
          "metadata": {
            "tags": []
          }
        },
        {
          "output_type": "stream",
          "text": [
            "Video Transcoding Lasso Rigression deg 2 \n"
          ],
          "name": "stdout"
        },
        {
          "output_type": "display_data",
          "data": {
            "text/html": [
              "<div>\n",
              "<style scoped>\n",
              "    .dataframe tbody tr th:only-of-type {\n",
              "        vertical-align: middle;\n",
              "    }\n",
              "\n",
              "    .dataframe tbody tr th {\n",
              "        vertical-align: top;\n",
              "    }\n",
              "\n",
              "    .dataframe thead th {\n",
              "        text-align: right;\n",
              "    }\n",
              "</style>\n",
              "<table border=\"1\" class=\"dataframe\">\n",
              "  <thead>\n",
              "    <tr style=\"text-align: right;\">\n",
              "      <th></th>\n",
              "      <th>Lasso Train RMSE</th>\n",
              "      <th>Lasso Valid RMSE</th>\n",
              "    </tr>\n",
              "  </thead>\n",
              "  <tbody>\n",
              "    <tr>\n",
              "      <th>0</th>\n",
              "      <td>6.569238</td>\n",
              "      <td>7.134968</td>\n",
              "    </tr>\n",
              "  </tbody>\n",
              "</table>\n",
              "</div>"
            ],
            "text/plain": [
              "   Lasso Train RMSE  Lasso Valid RMSE\n",
              "0          6.569238          7.134968"
            ]
          },
          "metadata": {
            "tags": []
          }
        }
      ]
    },
    {
      "cell_type": "code",
      "metadata": {
        "id": "yuW8LF0ytW30"
      },
      "source": [
        "def mlp(d,df,Y,hid_lay_size,alpha,lr,batch_size):\n",
        "\n",
        "    X = df.drop(columns = Y)\n",
        "    X = pd.get_dummies(X)\n",
        "    y = df[Y]\n",
        "    \n",
        "    nn_reg = MLPRegressor(hid_lay_size, activation = 'relu', alpha = alpha, max_iter=300,learning_rate_init= lr,batch_size = batch_size, learning_rate = 'adaptive', early_stopping = True)\n",
        "    scores = cross_validate(nn_reg, X, y, scoring=\"neg_mean_squared_error\", cv=10, return_train_score=True)\n",
        "          \n",
        "    return np.sqrt(np.mean(-scores['test_score'])), np.sqrt(np.mean(-scores['train_score']))"
      ],
      "execution_count": null,
      "outputs": []
    },
    {
      "cell_type": "code",
      "metadata": {
        "colab": {
          "base_uri": "https://localhost:8080/",
          "height": 94
        },
        "id": "0MhnlGh-w3V7",
        "outputId": "ccb09b66-2199-4f7a-fe29-28c748d1743c"
      },
      "source": [
        "#hid_size_list = [[200,500,500,200],[300,600,600,600,200],[500,1000,1000,500]]\n",
        "#al_list = [1e-1,1e1,1e2,1e3]\n",
        "#lr_list = [1e-4, 5e-3, 1e-1]\n",
        "hid_size_list = [[300,600,600,600,200]]\n",
        "al_list = [1e2]\n",
        "lr_list = [1e-3]\n",
        "d = datasets[1]\n",
        "df = dfs[1]\n",
        "Y = ys[1]\n",
        "\n",
        "nn_list = []\n",
        "print(d+\" MLP\")\n",
        "for hid_size in hid_size_list:\n",
        "    for al in al_list:\n",
        "        for lr in lr_list:\n",
        "            val_score, tr_score = mlp(d,df,Y,hid_size, al,lr,1024)\n",
        "            nn_list.append([hid_size, val_score, tr_score, lr,al])\n",
        "nn_df = pd.DataFrame(nn_list, columns = ['Hidden Size', 'Avg Valid RMSE', 'Avg Train RMSE', 'LR','Alpha'])\n",
        "display(nn_df)"
      ],
      "execution_count": null,
      "outputs": [
        {
          "output_type": "stream",
          "text": [
            "Suicide MLP\n"
          ],
          "name": "stdout"
        },
        {
          "output_type": "display_data",
          "data": {
            "text/html": [
              "<div>\n",
              "<style scoped>\n",
              "    .dataframe tbody tr th:only-of-type {\n",
              "        vertical-align: middle;\n",
              "    }\n",
              "\n",
              "    .dataframe tbody tr th {\n",
              "        vertical-align: top;\n",
              "    }\n",
              "\n",
              "    .dataframe thead th {\n",
              "        text-align: right;\n",
              "    }\n",
              "</style>\n",
              "<table border=\"1\" class=\"dataframe\">\n",
              "  <thead>\n",
              "    <tr style=\"text-align: right;\">\n",
              "      <th></th>\n",
              "      <th>Hidden Size</th>\n",
              "      <th>Avg Valid RMSE</th>\n",
              "      <th>Avg Train RMSE</th>\n",
              "      <th>LR</th>\n",
              "      <th>Alpha</th>\n",
              "    </tr>\n",
              "  </thead>\n",
              "  <tbody>\n",
              "    <tr>\n",
              "      <th>0</th>\n",
              "      <td>[300, 600, 600, 600, 200]</td>\n",
              "      <td>14.768253</td>\n",
              "      <td>12.141768</td>\n",
              "      <td>0.001</td>\n",
              "      <td>100.0</td>\n",
              "    </tr>\n",
              "  </tbody>\n",
              "</table>\n",
              "</div>"
            ],
            "text/plain": [
              "                 Hidden Size  Avg Valid RMSE  Avg Train RMSE     LR  Alpha\n",
              "0  [300, 600, 600, 600, 200]       14.768253       12.141768  0.001  100.0"
            ]
          },
          "metadata": {
            "tags": []
          }
        }
      ]
    },
    {
      "cell_type": "code",
      "metadata": {
        "colab": {
          "base_uri": "https://localhost:8080/",
          "height": 1000
        },
        "id": "O1vzOjXdtXww",
        "outputId": "d0ec1c3b-1ba3-4c01-82a9-565f3541d982"
      },
      "source": [
        "hid_size_list = [[300, 500, 200],[200,500,500,200],[300,600,600,600,200]]\n",
        "al_list = [1e-1,1e1,1e2,1e3]\n",
        "lr_list = [1e-4, 5e-3, 1e-1]\n",
        "for d, df, Y in zip(datasets, dfs, ys):\n",
        "    nn_list = []\n",
        "    print(d+\" MLP\")\n",
        "    for hid_size in hid_size_list:\n",
        "        for al in al_list:\n",
        "            for lr in lr_list:\n",
        "                val_score, tr_score = mlp(d,df,Y,hid_size, al,lr)\n",
        "                nn_list.append([hid_size, val_score, tr_score, lr])\n",
        "    nn_df = pd.DataFrame(nn_list, columns = ['Hidden Size', 'Avg Valid RMSE', 'Avg Train RMSE', 'LR'])\n",
        "    display(nn_df)"
      ],
      "execution_count": null,
      "outputs": [
        {
          "output_type": "stream",
          "text": [
            "Bike Sharing MLP\n"
          ],
          "name": "stdout"
        },
        {
          "output_type": "display_data",
          "data": {
            "text/html": [
              "<div>\n",
              "<style scoped>\n",
              "    .dataframe tbody tr th:only-of-type {\n",
              "        vertical-align: middle;\n",
              "    }\n",
              "\n",
              "    .dataframe tbody tr th {\n",
              "        vertical-align: top;\n",
              "    }\n",
              "\n",
              "    .dataframe thead th {\n",
              "        text-align: right;\n",
              "    }\n",
              "</style>\n",
              "<table border=\"1\" class=\"dataframe\">\n",
              "  <thead>\n",
              "    <tr style=\"text-align: right;\">\n",
              "      <th></th>\n",
              "      <th>Hidden Size</th>\n",
              "      <th>Avg Valid RMSE</th>\n",
              "      <th>Avg Train RMSE</th>\n",
              "      <th>LR</th>\n",
              "    </tr>\n",
              "  </thead>\n",
              "  <tbody>\n",
              "    <tr>\n",
              "      <th>0</th>\n",
              "      <td>[300, 500, 200]</td>\n",
              "      <td>945.991572</td>\n",
              "      <td>771.994056</td>\n",
              "      <td>0.0001</td>\n",
              "    </tr>\n",
              "    <tr>\n",
              "      <th>1</th>\n",
              "      <td>[300, 500, 200]</td>\n",
              "      <td>913.062202</td>\n",
              "      <td>658.613518</td>\n",
              "      <td>0.0050</td>\n",
              "    </tr>\n",
              "    <tr>\n",
              "      <th>2</th>\n",
              "      <td>[300, 500, 200]</td>\n",
              "      <td>1236.097119</td>\n",
              "      <td>1201.043316</td>\n",
              "      <td>0.1000</td>\n",
              "    </tr>\n",
              "    <tr>\n",
              "      <th>3</th>\n",
              "      <td>[300, 500, 200]</td>\n",
              "      <td>1066.346358</td>\n",
              "      <td>856.686661</td>\n",
              "      <td>0.0001</td>\n",
              "    </tr>\n",
              "    <tr>\n",
              "      <th>4</th>\n",
              "      <td>[300, 500, 200]</td>\n",
              "      <td>862.294441</td>\n",
              "      <td>700.119869</td>\n",
              "      <td>0.0050</td>\n",
              "    </tr>\n",
              "    <tr>\n",
              "      <th>5</th>\n",
              "      <td>[300, 500, 200]</td>\n",
              "      <td>901.896137</td>\n",
              "      <td>754.942178</td>\n",
              "      <td>0.1000</td>\n",
              "    </tr>\n",
              "    <tr>\n",
              "      <th>6</th>\n",
              "      <td>[300, 500, 200]</td>\n",
              "      <td>910.431761</td>\n",
              "      <td>765.503430</td>\n",
              "      <td>0.0001</td>\n",
              "    </tr>\n",
              "    <tr>\n",
              "      <th>7</th>\n",
              "      <td>[300, 500, 200]</td>\n",
              "      <td>851.401551</td>\n",
              "      <td>653.799133</td>\n",
              "      <td>0.0050</td>\n",
              "    </tr>\n",
              "    <tr>\n",
              "      <th>8</th>\n",
              "      <td>[300, 500, 200]</td>\n",
              "      <td>836.028609</td>\n",
              "      <td>501.176772</td>\n",
              "      <td>0.1000</td>\n",
              "    </tr>\n",
              "    <tr>\n",
              "      <th>9</th>\n",
              "      <td>[300, 500, 200]</td>\n",
              "      <td>890.704954</td>\n",
              "      <td>757.110922</td>\n",
              "      <td>0.0001</td>\n",
              "    </tr>\n",
              "    <tr>\n",
              "      <th>10</th>\n",
              "      <td>[300, 500, 200]</td>\n",
              "      <td>846.941875</td>\n",
              "      <td>646.715115</td>\n",
              "      <td>0.0050</td>\n",
              "    </tr>\n",
              "    <tr>\n",
              "      <th>11</th>\n",
              "      <td>[300, 500, 200]</td>\n",
              "      <td>868.017783</td>\n",
              "      <td>460.029352</td>\n",
              "      <td>0.1000</td>\n",
              "    </tr>\n",
              "    <tr>\n",
              "      <th>12</th>\n",
              "      <td>[200, 500, 500, 200]</td>\n",
              "      <td>892.504273</td>\n",
              "      <td>901.425112</td>\n",
              "      <td>0.0001</td>\n",
              "    </tr>\n",
              "    <tr>\n",
              "      <th>13</th>\n",
              "      <td>[200, 500, 500, 200]</td>\n",
              "      <td>790.181225</td>\n",
              "      <td>478.767594</td>\n",
              "      <td>0.0050</td>\n",
              "    </tr>\n",
              "    <tr>\n",
              "      <th>14</th>\n",
              "      <td>[200, 500, 500, 200]</td>\n",
              "      <td>928.239549</td>\n",
              "      <td>722.819133</td>\n",
              "      <td>0.1000</td>\n",
              "    </tr>\n",
              "    <tr>\n",
              "      <th>15</th>\n",
              "      <td>[200, 500, 500, 200]</td>\n",
              "      <td>872.668926</td>\n",
              "      <td>709.277990</td>\n",
              "      <td>0.0001</td>\n",
              "    </tr>\n",
              "    <tr>\n",
              "      <th>16</th>\n",
              "      <td>[200, 500, 500, 200]</td>\n",
              "      <td>857.497725</td>\n",
              "      <td>554.731027</td>\n",
              "      <td>0.0050</td>\n",
              "    </tr>\n",
              "    <tr>\n",
              "      <th>17</th>\n",
              "      <td>[200, 500, 500, 200]</td>\n",
              "      <td>850.742015</td>\n",
              "      <td>631.340909</td>\n",
              "      <td>0.1000</td>\n",
              "    </tr>\n",
              "    <tr>\n",
              "      <th>18</th>\n",
              "      <td>[200, 500, 500, 200]</td>\n",
              "      <td>843.677566</td>\n",
              "      <td>678.420703</td>\n",
              "      <td>0.0001</td>\n",
              "    </tr>\n",
              "    <tr>\n",
              "      <th>19</th>\n",
              "      <td>[200, 500, 500, 200]</td>\n",
              "      <td>867.975918</td>\n",
              "      <td>513.090648</td>\n",
              "      <td>0.0050</td>\n",
              "    </tr>\n",
              "    <tr>\n",
              "      <th>20</th>\n",
              "      <td>[200, 500, 500, 200]</td>\n",
              "      <td>942.211655</td>\n",
              "      <td>589.915409</td>\n",
              "      <td>0.1000</td>\n",
              "    </tr>\n",
              "    <tr>\n",
              "      <th>21</th>\n",
              "      <td>[200, 500, 500, 200]</td>\n",
              "      <td>832.639317</td>\n",
              "      <td>679.320955</td>\n",
              "      <td>0.0001</td>\n",
              "    </tr>\n",
              "    <tr>\n",
              "      <th>22</th>\n",
              "      <td>[200, 500, 500, 200]</td>\n",
              "      <td>898.274294</td>\n",
              "      <td>592.051691</td>\n",
              "      <td>0.0050</td>\n",
              "    </tr>\n",
              "    <tr>\n",
              "      <th>23</th>\n",
              "      <td>[200, 500, 500, 200]</td>\n",
              "      <td>930.446682</td>\n",
              "      <td>545.482235</td>\n",
              "      <td>0.1000</td>\n",
              "    </tr>\n",
              "    <tr>\n",
              "      <th>24</th>\n",
              "      <td>[300, 600, 600, 600, 200]</td>\n",
              "      <td>812.559547</td>\n",
              "      <td>470.328962</td>\n",
              "      <td>0.0001</td>\n",
              "    </tr>\n",
              "    <tr>\n",
              "      <th>25</th>\n",
              "      <td>[300, 600, 600, 600, 200]</td>\n",
              "      <td>811.689381</td>\n",
              "      <td>513.925067</td>\n",
              "      <td>0.0050</td>\n",
              "    </tr>\n",
              "    <tr>\n",
              "      <th>26</th>\n",
              "      <td>[300, 600, 600, 600, 200]</td>\n",
              "      <td>1884.979581</td>\n",
              "      <td>1528.835868</td>\n",
              "      <td>0.1000</td>\n",
              "    </tr>\n",
              "    <tr>\n",
              "      <th>27</th>\n",
              "      <td>[300, 600, 600, 600, 200]</td>\n",
              "      <td>814.950618</td>\n",
              "      <td>508.141826</td>\n",
              "      <td>0.0001</td>\n",
              "    </tr>\n",
              "    <tr>\n",
              "      <th>28</th>\n",
              "      <td>[300, 600, 600, 600, 200]</td>\n",
              "      <td>820.352491</td>\n",
              "      <td>450.234021</td>\n",
              "      <td>0.0050</td>\n",
              "    </tr>\n",
              "    <tr>\n",
              "      <th>29</th>\n",
              "      <td>[300, 600, 600, 600, 200]</td>\n",
              "      <td>1262.282642</td>\n",
              "      <td>842.981638</td>\n",
              "      <td>0.1000</td>\n",
              "    </tr>\n",
              "    <tr>\n",
              "      <th>30</th>\n",
              "      <td>[300, 600, 600, 600, 200]</td>\n",
              "      <td>798.274542</td>\n",
              "      <td>490.637614</td>\n",
              "      <td>0.0001</td>\n",
              "    </tr>\n",
              "    <tr>\n",
              "      <th>31</th>\n",
              "      <td>[300, 600, 600, 600, 200]</td>\n",
              "      <td>871.172024</td>\n",
              "      <td>440.256064</td>\n",
              "      <td>0.0050</td>\n",
              "    </tr>\n",
              "    <tr>\n",
              "      <th>32</th>\n",
              "      <td>[300, 600, 600, 600, 200]</td>\n",
              "      <td>1010.349786</td>\n",
              "      <td>623.197229</td>\n",
              "      <td>0.1000</td>\n",
              "    </tr>\n",
              "    <tr>\n",
              "      <th>33</th>\n",
              "      <td>[300, 600, 600, 600, 200]</td>\n",
              "      <td>808.869003</td>\n",
              "      <td>521.344530</td>\n",
              "      <td>0.0001</td>\n",
              "    </tr>\n",
              "    <tr>\n",
              "      <th>34</th>\n",
              "      <td>[300, 600, 600, 600, 200]</td>\n",
              "      <td>814.254005</td>\n",
              "      <td>441.076267</td>\n",
              "      <td>0.0050</td>\n",
              "    </tr>\n",
              "    <tr>\n",
              "      <th>35</th>\n",
              "      <td>[300, 600, 600, 600, 200]</td>\n",
              "      <td>964.630918</td>\n",
              "      <td>552.493932</td>\n",
              "      <td>0.1000</td>\n",
              "    </tr>\n",
              "  </tbody>\n",
              "</table>\n",
              "</div>"
            ],
            "text/plain": [
              "                  Hidden Size  Avg Valid RMSE  Avg Train RMSE      LR\n",
              "0             [300, 500, 200]      945.991572      771.994056  0.0001\n",
              "1             [300, 500, 200]      913.062202      658.613518  0.0050\n",
              "2             [300, 500, 200]     1236.097119     1201.043316  0.1000\n",
              "3             [300, 500, 200]     1066.346358      856.686661  0.0001\n",
              "4             [300, 500, 200]      862.294441      700.119869  0.0050\n",
              "5             [300, 500, 200]      901.896137      754.942178  0.1000\n",
              "6             [300, 500, 200]      910.431761      765.503430  0.0001\n",
              "7             [300, 500, 200]      851.401551      653.799133  0.0050\n",
              "8             [300, 500, 200]      836.028609      501.176772  0.1000\n",
              "9             [300, 500, 200]      890.704954      757.110922  0.0001\n",
              "10            [300, 500, 200]      846.941875      646.715115  0.0050\n",
              "11            [300, 500, 200]      868.017783      460.029352  0.1000\n",
              "12       [200, 500, 500, 200]      892.504273      901.425112  0.0001\n",
              "13       [200, 500, 500, 200]      790.181225      478.767594  0.0050\n",
              "14       [200, 500, 500, 200]      928.239549      722.819133  0.1000\n",
              "15       [200, 500, 500, 200]      872.668926      709.277990  0.0001\n",
              "16       [200, 500, 500, 200]      857.497725      554.731027  0.0050\n",
              "17       [200, 500, 500, 200]      850.742015      631.340909  0.1000\n",
              "18       [200, 500, 500, 200]      843.677566      678.420703  0.0001\n",
              "19       [200, 500, 500, 200]      867.975918      513.090648  0.0050\n",
              "20       [200, 500, 500, 200]      942.211655      589.915409  0.1000\n",
              "21       [200, 500, 500, 200]      832.639317      679.320955  0.0001\n",
              "22       [200, 500, 500, 200]      898.274294      592.051691  0.0050\n",
              "23       [200, 500, 500, 200]      930.446682      545.482235  0.1000\n",
              "24  [300, 600, 600, 600, 200]      812.559547      470.328962  0.0001\n",
              "25  [300, 600, 600, 600, 200]      811.689381      513.925067  0.0050\n",
              "26  [300, 600, 600, 600, 200]     1884.979581     1528.835868  0.1000\n",
              "27  [300, 600, 600, 600, 200]      814.950618      508.141826  0.0001\n",
              "28  [300, 600, 600, 600, 200]      820.352491      450.234021  0.0050\n",
              "29  [300, 600, 600, 600, 200]     1262.282642      842.981638  0.1000\n",
              "30  [300, 600, 600, 600, 200]      798.274542      490.637614  0.0001\n",
              "31  [300, 600, 600, 600, 200]      871.172024      440.256064  0.0050\n",
              "32  [300, 600, 600, 600, 200]     1010.349786      623.197229  0.1000\n",
              "33  [300, 600, 600, 600, 200]      808.869003      521.344530  0.0001\n",
              "34  [300, 600, 600, 600, 200]      814.254005      441.076267  0.0050\n",
              "35  [300, 600, 600, 600, 200]      964.630918      552.493932  0.1000"
            ]
          },
          "metadata": {
            "tags": []
          }
        },
        {
          "output_type": "stream",
          "text": [
            "Suicide MLP\n"
          ],
          "name": "stdout"
        }
      ]
    },
    {
      "cell_type": "code",
      "metadata": {
        "id": "w7QMejgRzXX9"
      },
      "source": [
        "def mlp_noCV(d,df,Y,hid_lay_size,alpha,batch_size,lr):\n",
        "\n",
        "    X = df.drop(columns = Y)\n",
        "    X = pd.get_dummies(X)\n",
        "    y = df[Y]\n",
        "    X_train, X_test, y_train, y_test = train_test_split(X, y,random_state=1)\n",
        "    nn_reg = MLPRegressor(hid_lay_size, activation = 'relu', alpha = alpha, max_iter=300,learning_rate_init= lr,batch_size = batch_size, learning_rate = 'adaptive', early_stopping = True)\n",
        "    nn_reg.fit(X_train, y_train)\n",
        "    train_pred = nn_reg.predict(X_train)\n",
        "    test_pred = nn_reg.predict(X_test)\n",
        "\n",
        "    return mean_squared_error(y_train,train_pred), mean_squared_error(y_test,test_pred)"
      ],
      "execution_count": null,
      "outputs": []
    },
    {
      "cell_type": "code",
      "metadata": {
        "colab": {
          "base_uri": "https://localhost:8080/",
          "height": 94
        },
        "id": "NugEqQYh4TyI",
        "outputId": "0458151b-d574-4ce5-c730-0103f7758104"
      },
      "source": [
        "hid_size_list = [[300,600,600,600,200]]\n",
        "al_list = [1e3]\n",
        "lr_list = [1e-3]\n",
        "d = datasets[1]\n",
        "df = dfs[1]\n",
        "Y = ys[1]\n",
        "\n",
        "nn_list = []\n",
        "print(d+\" MLP\")\n",
        "for hid_size in hid_size_list:\n",
        "    for al in al_list:\n",
        "        for lr in lr_list:\n",
        "            tr_score, val_score = mlp_noCV(d,df,Y,hid_size, al,512,lr)\n",
        "            nn_list.append([hid_size, val_score, tr_score, lr,al])\n",
        "nn_df = pd.DataFrame(nn_list, columns = ['Hidden Size', 'Avg Valid RMSE', 'Avg Train RMSE', 'LR','Alpha'])\n",
        "display(nn_df)"
      ],
      "execution_count": null,
      "outputs": [
        {
          "output_type": "stream",
          "text": [
            "Suicide MLP\n"
          ],
          "name": "stdout"
        },
        {
          "output_type": "display_data",
          "data": {
            "text/html": [
              "<div>\n",
              "<style scoped>\n",
              "    .dataframe tbody tr th:only-of-type {\n",
              "        vertical-align: middle;\n",
              "    }\n",
              "\n",
              "    .dataframe tbody tr th {\n",
              "        vertical-align: top;\n",
              "    }\n",
              "\n",
              "    .dataframe thead th {\n",
              "        text-align: right;\n",
              "    }\n",
              "</style>\n",
              "<table border=\"1\" class=\"dataframe\">\n",
              "  <thead>\n",
              "    <tr style=\"text-align: right;\">\n",
              "      <th></th>\n",
              "      <th>Hidden Size</th>\n",
              "      <th>Avg Valid RMSE</th>\n",
              "      <th>Avg Train RMSE</th>\n",
              "      <th>LR</th>\n",
              "      <th>Alpha</th>\n",
              "    </tr>\n",
              "  </thead>\n",
              "  <tbody>\n",
              "    <tr>\n",
              "      <th>0</th>\n",
              "      <td>[300, 600, 600, 600, 200]</td>\n",
              "      <td>166.740852</td>\n",
              "      <td>167.730007</td>\n",
              "      <td>0.001</td>\n",
              "      <td>1000.0</td>\n",
              "    </tr>\n",
              "  </tbody>\n",
              "</table>\n",
              "</div>"
            ],
            "text/plain": [
              "                 Hidden Size  Avg Valid RMSE  Avg Train RMSE     LR   Alpha\n",
              "0  [300, 600, 600, 600, 200]      166.740852      167.730007  0.001  1000.0"
            ]
          },
          "metadata": {
            "tags": []
          }
        }
      ]
    },
    {
      "cell_type": "code",
      "metadata": {
        "colab": {
          "base_uri": "https://localhost:8080/",
          "height": 301
        },
        "id": "Hb85AcvG7Nua",
        "outputId": "b6650644-f6e4-4725-a26a-835b18f871c2"
      },
      "source": [
        "hid_size_list = [[200,500,500,200],[300,600,600,600,200]]\n",
        "al_list = [1e-2,1e1,1e2,1e3]\n",
        "lr_list = [ 5e-3]\n",
        "d = datasets[1]\n",
        "df = dfs[1]\n",
        "Y = ys[1]\n",
        "\n",
        "nn_list = []\n",
        "print(d+\" MLP\")\n",
        "for hid_size in hid_size_list:\n",
        "    for al in al_list:\n",
        "        for lr in lr_list:\n",
        "            tr_score, val_score = mlp_noCV(d,df,Y,hid_size, al,512,lr)\n",
        "            nn_list.append([hid_size, val_score, tr_score, lr,al])\n",
        "nn_df = pd.DataFrame(nn_list, columns = ['Hidden Size', 'Avg Valid RMSE', 'Avg Train RMSE', 'LR','Alpha'])\n",
        "display(nn_df)"
      ],
      "execution_count": null,
      "outputs": [
        {
          "output_type": "stream",
          "text": [
            "Suicide MLP\n"
          ],
          "name": "stdout"
        },
        {
          "output_type": "display_data",
          "data": {
            "text/html": [
              "<div>\n",
              "<style scoped>\n",
              "    .dataframe tbody tr th:only-of-type {\n",
              "        vertical-align: middle;\n",
              "    }\n",
              "\n",
              "    .dataframe tbody tr th {\n",
              "        vertical-align: top;\n",
              "    }\n",
              "\n",
              "    .dataframe thead th {\n",
              "        text-align: right;\n",
              "    }\n",
              "</style>\n",
              "<table border=\"1\" class=\"dataframe\">\n",
              "  <thead>\n",
              "    <tr style=\"text-align: right;\">\n",
              "      <th></th>\n",
              "      <th>Hidden Size</th>\n",
              "      <th>Avg Valid RMSE</th>\n",
              "      <th>Avg Train RMSE</th>\n",
              "      <th>LR</th>\n",
              "      <th>Alpha</th>\n",
              "    </tr>\n",
              "  </thead>\n",
              "  <tbody>\n",
              "    <tr>\n",
              "      <th>0</th>\n",
              "      <td>[200, 500, 500, 200]</td>\n",
              "      <td>158.709368</td>\n",
              "      <td>109.620041</td>\n",
              "      <td>0.005</td>\n",
              "      <td>0.01</td>\n",
              "    </tr>\n",
              "    <tr>\n",
              "      <th>1</th>\n",
              "      <td>[200, 500, 500, 200]</td>\n",
              "      <td>154.103722</td>\n",
              "      <td>106.100199</td>\n",
              "      <td>0.005</td>\n",
              "      <td>10.00</td>\n",
              "    </tr>\n",
              "    <tr>\n",
              "      <th>2</th>\n",
              "      <td>[200, 500, 500, 200]</td>\n",
              "      <td>142.941868</td>\n",
              "      <td>104.676267</td>\n",
              "      <td>0.005</td>\n",
              "      <td>100.00</td>\n",
              "    </tr>\n",
              "    <tr>\n",
              "      <th>3</th>\n",
              "      <td>[200, 500, 500, 200]</td>\n",
              "      <td>180.350828</td>\n",
              "      <td>184.202084</td>\n",
              "      <td>0.005</td>\n",
              "      <td>1000.00</td>\n",
              "    </tr>\n",
              "    <tr>\n",
              "      <th>4</th>\n",
              "      <td>[300, 600, 600, 600, 200]</td>\n",
              "      <td>146.117978</td>\n",
              "      <td>67.098693</td>\n",
              "      <td>0.005</td>\n",
              "      <td>0.01</td>\n",
              "    </tr>\n",
              "    <tr>\n",
              "      <th>5</th>\n",
              "      <td>[300, 600, 600, 600, 200]</td>\n",
              "      <td>135.497625</td>\n",
              "      <td>79.403298</td>\n",
              "      <td>0.005</td>\n",
              "      <td>10.00</td>\n",
              "    </tr>\n",
              "    <tr>\n",
              "      <th>6</th>\n",
              "      <td>[300, 600, 600, 600, 200]</td>\n",
              "      <td>140.504993</td>\n",
              "      <td>110.779732</td>\n",
              "      <td>0.005</td>\n",
              "      <td>100.00</td>\n",
              "    </tr>\n",
              "    <tr>\n",
              "      <th>7</th>\n",
              "      <td>[300, 600, 600, 600, 200]</td>\n",
              "      <td>171.475260</td>\n",
              "      <td>173.471465</td>\n",
              "      <td>0.005</td>\n",
              "      <td>1000.00</td>\n",
              "    </tr>\n",
              "  </tbody>\n",
              "</table>\n",
              "</div>"
            ],
            "text/plain": [
              "                 Hidden Size  Avg Valid RMSE  Avg Train RMSE     LR    Alpha\n",
              "0       [200, 500, 500, 200]      158.709368      109.620041  0.005     0.01\n",
              "1       [200, 500, 500, 200]      154.103722      106.100199  0.005    10.00\n",
              "2       [200, 500, 500, 200]      142.941868      104.676267  0.005   100.00\n",
              "3       [200, 500, 500, 200]      180.350828      184.202084  0.005  1000.00\n",
              "4  [300, 600, 600, 600, 200]      146.117978       67.098693  0.005     0.01\n",
              "5  [300, 600, 600, 600, 200]      135.497625       79.403298  0.005    10.00\n",
              "6  [300, 600, 600, 600, 200]      140.504993      110.779732  0.005   100.00\n",
              "7  [300, 600, 600, 600, 200]      171.475260      173.471465  0.005  1000.00"
            ]
          },
          "metadata": {
            "tags": []
          }
        }
      ]
    },
    {
      "cell_type": "code",
      "metadata": {
        "colab": {
          "base_uri": "https://localhost:8080/"
        },
        "id": "7SF_333PruEK",
        "outputId": "b9834a84-39fa-4724-9ba7-678fcd6088a1"
      },
      "source": [
        "df_vid.columns"
      ],
      "execution_count": null,
      "outputs": [
        {
          "output_type": "execute_result",
          "data": {
            "text/plain": [
              "Index(['duration', 'codec', 'width', 'height', 'bitrate', 'framerate', 'i',\n",
              "       'p', 'b', 'frames', 'i_size', 'p_size', 'size', 'o_codec', 'o_bitrate',\n",
              "       'o_framerate', 'o_width', 'o_height', 'utime'],\n",
              "      dtype='object')"
            ]
          },
          "metadata": {
            "tags": []
          },
          "execution_count": 64
        }
      ]
    },
    {
      "cell_type": "code",
      "metadata": {
        "id": "Z_VkjjSvKk5T"
      },
      "source": [
        ""
      ],
      "execution_count": null,
      "outputs": []
    }
  ]
}